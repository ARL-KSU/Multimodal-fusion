{
 "cells": [
  {
   "cell_type": "markdown",
   "id": "ca285330",
   "metadata": {},
   "source": [
    "# Extracting labels"
   ]
  },
  {
   "cell_type": "markdown",
   "id": "17d68532",
   "metadata": {},
   "source": [
    "In this script we extract event labels and timestamps from tsv file for dyad number 5, and then correlate those labels with ECG and EEG sensor readings."
   ]
  },
  {
   "cell_type": "markdown",
   "id": "014914b5",
   "metadata": {},
   "source": [
    "## This part comes from Tomas Dang and Morgan Belcher"
   ]
  },
  {
   "cell_type": "markdown",
   "id": "fb1aadbb",
   "metadata": {},
   "source": [
    "### Reading ECG data "
   ]
  },
  {
   "cell_type": "code",
   "execution_count": 20,
   "id": "5378f553",
   "metadata": {},
   "outputs": [],
   "source": [
    "import random\n",
    "from tkinter import Tk     # from tkinter import Tk for Python 3.x\n",
    "from tkinter import filedialog\n",
    "import csv\n",
    "import pandas as pd\n",
    "\n",
    "# These are for heart data processing\n",
    "\n",
    "import numpy as np \n",
    "import matplotlib.pyplot as plt\n",
    "import heartpy as hp\n",
    "from scipy.signal import resample"
   ]
  },
  {
   "cell_type": "code",
   "execution_count": 21,
   "id": "57dfebd1",
   "metadata": {},
   "outputs": [],
   "source": [
    "#You dont need to understand this, just know that it takes a list of numbers, and a desired value. It will return the closest value in the list to K\n",
    "def closest(lst, K):\n",
    "    return lst[min(range(len(lst)), key=lambda i: abs(lst[i] - K))]"
   ]
  },
  {
   "cell_type": "markdown",
   "id": "1465b743",
   "metadata": {},
   "source": [
    "Here we choose the tsv file with labels and csv file with ECG readings. For dyad number 5 these files are ECG_P_session_5.csv and event_ARL_RWNVDEDP_session_5_task_RealworldDriving_subjectLabId_4069_recording_1.tsv"
   ]
  },
  {
   "cell_type": "code",
   "execution_count": 68,
   "id": "a458a7d8",
   "metadata": {},
   "outputs": [],
   "source": [
    "#open a dialog box and get the selected csv file\n",
    "root = Tk()\n",
    "root.withdraw()\n",
    "csvfile = filedialog.askopenfile(parent=root,mode='r',filetypes=[('Excel file','*.csv')],title='Choose CSV file')\n",
    "\n",
    "# open another dialog box and get the selected tsv file\n",
    "tsvfile = filedialog.askopenfile(parent=root,mode='r',filetypes=[('Excel file','*.tsv')],title='Choose TSV file')"
   ]
  },
  {
   "cell_type": "markdown",
   "id": "18495a2b",
   "metadata": {},
   "source": [
    "### Extract acceleration"
   ]
  },
  {
   "cell_type": "markdown",
   "id": "36602fff",
   "metadata": {},
   "source": [
    "Here we just set up environment - create empty lists to store acceleration start and end times"
   ]
  },
  {
   "cell_type": "code",
   "execution_count": 38,
   "id": "477f3fd9",
   "metadata": {},
   "outputs": [],
   "source": [
    "# What kind of events do you want? These should be the EXACT text of what is in the tsv column\n",
    "eventtype_start = 'Event/Description/Driver begins accelerating at an aggressive rate'\n",
    "eventtype_end = 'Event/Description/Driver ends accelerating at an aggressive rate'\n",
    "eventtimes_start = [] # create a blank list of event times\n",
    "eventtimes_end = [] # create a blank list of event times\n",
    "f=(1000/4.06522225562659) # Zephr Bioharness 3 sample frequency\n",
    "                           # 4.06.... average sample rate in CSV_UNIX_TO_MS.py file"
   ]
  },
  {
   "cell_type": "markdown",
   "id": "ad8648fd",
   "metadata": {},
   "source": [
    "### Extract braking"
   ]
  },
  {
   "cell_type": "code",
   "execution_count": 51,
   "id": "6e0ec83a",
   "metadata": {},
   "outputs": [],
   "source": [
    "# What kind of events do you want? These should be the EXACT text of what is in the tsv column\n",
    "eventtype_start = 'Event/Description/Driver begins braking'\n",
    "eventtype_end = 'Event/Description/Driver stops braking'\n",
    "eventtimes_start = [] # create a blank list of event times\n",
    "eventtimes_end = [] # create a blank list of event times\n",
    "f=(1000/4.06522225562659) # Zephr Bioharness 3 sample frequency\n",
    "                           # 4.06.... average sample rate in CSV_UNIX_TO_MS.py file"
   ]
  },
  {
   "cell_type": "markdown",
   "id": "b459b9f7",
   "metadata": {},
   "source": [
    "### Extract lane change"
   ]
  },
  {
   "cell_type": "code",
   "execution_count": 69,
   "id": "37744640",
   "metadata": {},
   "outputs": [],
   "source": [
    "# What kind of events do you want? These should be the EXACT text of what is in the tsv column\n",
    "eventtype_start = 'Driver changes lanes'\n",
    "#eventtype_end = 'Event/Description/Driver stops braking'\n",
    "eventtimes_start = [] # create a blank list of event times\n",
    "eventtimes_end = [] # create a blank list of event times\n",
    "f=(1000/4.06522225562659) # Zephr Bioharness 3 sample frequency\n",
    "                           # 4.06.... average sample rate in CSV_UNIX_TO_MS.py file"
   ]
  },
  {
   "cell_type": "markdown",
   "id": "63da9fda",
   "metadata": {},
   "source": [
    "### This is only for lane change!!!"
   ]
  },
  {
   "cell_type": "code",
   "execution_count": 70,
   "id": "14939dfe",
   "metadata": {},
   "outputs": [
    {
     "name": "stdout",
     "output_type": "stream",
     "text": [
      " Event/Description/Driver changes lanes to the left\n",
      " Event/Description/Driver changes lanes to the left\n",
      " Event/Description/Driver changes lanes to the right\n",
      " Event/Description/Driver changes lanes to the right\n",
      " Event/Description/Driver changes lanes to the left\n",
      " Event/Description/Driver changes lanes to the right\n",
      " Event/Description/Driver changes lanes to the right\n",
      " Event/Description/Driver changes lanes to the left\n",
      " Event/Description/Driver changes lanes to the left\n",
      " Event/Description/Driver changes lanes to the left\n",
      " Event/Description/Driver changes lanes to the right\n",
      " Event/Description/Driver changes lanes to the left\n",
      " Event/Description/Driver changes lanes to the right\n",
      " Event/Description/Driver changes lanes to the left\n",
      " Event/Description/Driver changes lanes to the right\n",
      " Event/Description/Driver changes lanes to the left\n",
      " Event/Description/Driver changes lanes to the right\n",
      " Event/Description/Driver changes lanes to the left\n",
      " Event/Description/Driver changes lanes to the right\n",
      " Event/Description/Driver changes lanes to the left\n",
      " Event/Description/Driver changes lanes to the right\n",
      " Event/Description/Driver changes lanes to the left\n",
      " Event/Description/Driver changes lanes to the right\n",
      " Event/Description/Driver changes lanes to the left\n",
      " Event/Description/Driver changes lanes to the right\n",
      " Event/Description/Driver changes lanes to the right\n",
      " Event/Description/Driver changes lanes to the left\n",
      " Event/Description/Driver changes lanes to the left\n",
      " Event/Description/Driver changes lanes to the right\n",
      " Event/Description/Driver changes lanes to the right\n",
      " Event/Description/Driver changes lanes to the right\n",
      " Event/Description/Driver changes lanes to the left\n",
      " Event/Description/Driver changes lanes to the left\n",
      " Event/Description/Driver changes lanes to the left\n",
      " Event/Description/Driver changes lanes to the right\n",
      " Event/Description/Driver changes lanes to the left\n",
      " Event/Description/Driver changes lanes to the right\n",
      " Event/Description/Driver changes lanes to the left\n",
      " Event/Description/Driver changes lanes to the right\n",
      " Event/Description/Driver changes lanes to the left\n",
      " Event/Description/Driver changes lanes to the right\n",
      " Event/Description/Driver changes lanes to the left\n",
      " Event/Description/Driver changes lanes to the left\n",
      " Event/Description/Driver changes lanes to the right\n",
      " Event/Description/Driver changes lanes to the left\n",
      " Event/Description/Driver changes lanes to the right\n",
      " Event/Description/Driver changes lanes to the right\n",
      " Event/Description/Driver changes lanes to the left\n",
      " Event/Description/Driver changes lanes to the right\n",
      " Event/Description/Driver changes lanes to the right\n",
      " Event/Description/Driver changes lanes to the right\n",
      " Event/Description/Driver changes lanes to the left\n",
      " Event/Description/Driver changes lanes to the left\n"
     ]
    }
   ],
   "source": [
    "# open the selected tsv file\n",
    "with open(tsvfile.name) as fd:\n",
    "    rd = csv.reader(fd, delimiter=\"\\t\", quotechar='\"') # read the file, line by line, into seperate rows\n",
    "    for row in rd: # for each row in the tsv file\n",
    "        data = row[2].split(',') # this 'splits' our row string by commas and creates a list of elements\n",
    "        #print(data)\n",
    "        if eventtype_start in data[1]: # this checks to see if our event type string (eventtype above) is inside of current tsv file event\n",
    "            eventtimes_start.append(float(row[1])) # if its the kind of event we want, lets add it to our eventtimes list\n",
    "            print(data[1])\n",
    "        #if eventtype_end in data[1]:\n",
    "        #    eventtimes_end.append(float(row[1]))"
   ]
  },
  {
   "cell_type": "markdown",
   "id": "c6673e81",
   "metadata": {},
   "source": [
    "#### My intervention\n",
    "\n",
    "Since Tomas is only concerned about aggressive acceleration and I need braking and lane change, I will modify the code above to extract braking and lane changes. The braking event descriptors are: **Driver begins braking** and **Driver stops braking**. For lane change we have just **Lane Change**. These are exact wordings to be used to extract events from tsv file. I am not concerned with extracting the direction of change and will treat left and right lane changes as same category events."
   ]
  },
  {
   "cell_type": "markdown",
   "id": "10e904fd",
   "metadata": {},
   "source": [
    "Here Tomas's code continues, I am not intervening yet."
   ]
  },
  {
   "cell_type": "code",
   "execution_count": 66,
   "id": "4074c1ee",
   "metadata": {},
   "outputs": [
    {
     "name": "stdout",
     "output_type": "stream",
     "text": [
      " Event/Description/Driver changes lanes to the left\n",
      " Event/Description/Driver changes lanes to the left\n",
      " Event/Description/Driver changes lanes to the right\n",
      " Event/Description/Driver changes lanes to the right\n",
      " Event/Description/Driver changes lanes to the left\n",
      " Event/Description/Driver changes lanes to the right\n",
      " Event/Description/Driver changes lanes to the right\n",
      " Event/Description/Driver changes lanes to the left\n",
      " Event/Description/Driver changes lanes to the left\n",
      " Event/Description/Driver changes lanes to the left\n",
      " Event/Description/Driver changes lanes to the right\n",
      " Event/Description/Driver changes lanes to the left\n",
      " Event/Description/Driver changes lanes to the right\n",
      " Event/Description/Driver changes lanes to the left\n",
      " Event/Description/Driver changes lanes to the right\n",
      " Event/Description/Driver changes lanes to the left\n",
      " Event/Description/Driver changes lanes to the right\n",
      " Event/Description/Driver changes lanes to the left\n",
      " Event/Description/Driver changes lanes to the right\n",
      " Event/Description/Driver changes lanes to the left\n",
      " Event/Description/Driver changes lanes to the right\n",
      " Event/Description/Driver changes lanes to the left\n",
      " Event/Description/Driver changes lanes to the right\n",
      " Event/Description/Driver changes lanes to the left\n",
      " Event/Description/Driver changes lanes to the right\n",
      " Event/Description/Driver changes lanes to the right\n",
      " Event/Description/Driver changes lanes to the left\n",
      " Event/Description/Driver changes lanes to the left\n",
      " Event/Description/Driver changes lanes to the right\n",
      " Event/Description/Driver changes lanes to the right\n",
      " Event/Description/Driver changes lanes to the right\n",
      " Event/Description/Driver changes lanes to the left\n",
      " Event/Description/Driver changes lanes to the left\n",
      " Event/Description/Driver changes lanes to the left\n",
      " Event/Description/Driver changes lanes to the right\n",
      " Event/Description/Driver changes lanes to the left\n",
      " Event/Description/Driver changes lanes to the right\n",
      " Event/Description/Driver changes lanes to the left\n",
      " Event/Description/Driver changes lanes to the right\n",
      " Event/Description/Driver changes lanes to the left\n",
      " Event/Description/Driver changes lanes to the right\n",
      " Event/Description/Driver changes lanes to the left\n",
      " Event/Description/Driver changes lanes to the left\n",
      " Event/Description/Driver changes lanes to the right\n",
      " Event/Description/Driver changes lanes to the left\n",
      " Event/Description/Driver changes lanes to the right\n",
      " Event/Description/Driver changes lanes to the right\n",
      " Event/Description/Driver changes lanes to the left\n",
      " Event/Description/Driver changes lanes to the right\n",
      " Event/Description/Driver changes lanes to the right\n",
      " Event/Description/Driver changes lanes to the right\n",
      " Event/Description/Driver changes lanes to the left\n",
      " Event/Description/Driver changes lanes to the left\n"
     ]
    }
   ],
   "source": [
    "# open the selected tsv file\n",
    "with open(tsvfile.name) as fd:\n",
    "    rd = csv.reader(fd, delimiter=\"\\t\", quotechar='\"') # read the file, line by line, into seperate rows\n",
    "    for row in rd: # for each row in the tsv file\n",
    "        data = row[2].split(',') # this 'splits' our row string by commas and creates a list of elements\n",
    "        if eventtype_start in data[1]: # this checks to see if our event type string (eventtype above) is inside of current tsv file event\n",
    "            eventtimes_start.append(float(row[1])) # if its the kind of event we want, lets add it to our eventtimes list\n",
    "            print(data[1])\n",
    "        if eventtype_end in data[1]:\n",
    "            eventtimes_end.append(float(row[1]))"
   ]
  },
  {
   "cell_type": "markdown",
   "id": "0bc3d4a6",
   "metadata": {},
   "source": [
    "Here we got timestamps for beginning and ending of aggressive acceleration"
   ]
  },
  {
   "cell_type": "code",
   "execution_count": 71,
   "id": "10312dbb",
   "metadata": {},
   "outputs": [
    {
     "name": "stdout",
     "output_type": "stream",
     "text": [
      "First few accelerations' start times\n",
      "\n",
      "[2256.1367, 2276.3086, 2305.4727, 2346.3516, 2349.6172, 2420.8711, 2585.207, 2644.3633, 2671.2734, 2707.4922]\n",
      "53\n",
      "\n",
      "\n",
      "\n",
      "First few accelerations' end times\n",
      "\n",
      "[]\n"
     ]
    }
   ],
   "source": [
    "print(\"First few accelerations' start times\\n\")\n",
    "print(eventtimes_start[:10])\n",
    "print(len(eventtimes_start))\n",
    "print(\"\\n\\n\")\n",
    "print(\"First few accelerations' end times\\n\")\n",
    "print(eventtimes_end[:10])"
   ]
  },
  {
   "cell_type": "markdown",
   "id": "ec8191fd",
   "metadata": {},
   "source": [
    "#### Reading ECG file "
   ]
  },
  {
   "cell_type": "markdown",
   "id": "10150155",
   "metadata": {},
   "source": [
    "Here we read ECG readings and extract their timestamps into separate list"
   ]
  },
  {
   "cell_type": "code",
   "execution_count": 72,
   "id": "4c66c39a",
   "metadata": {},
   "outputs": [
    {
     "name": "stdout",
     "output_type": "stream",
     "text": [
      "The Total Number of Events = 53\n",
      "The Total Number of Events = 0\n"
     ]
    }
   ],
   "source": [
    "df = pd.read_csv(csvfile.name) #ecg data file \n",
    "times = df.Time.tolist()\n",
    "print('The Total Number of Events = ' + str(len(eventtimes_start)))\n",
    "print('The Total Number of Events = ' + str(len(eventtimes_end)))\n",
    "#print (eventtimes)"
   ]
  },
  {
   "cell_type": "markdown",
   "id": "fdfa6708",
   "metadata": {},
   "source": [
    "What is p300? Why add 0.650 seconds? Need to talk to Tomas\n",
    "\n",
    "Here Tomas just multiples event start and end times measured in microseconds by 1000 to convert them to milliseconds."
   ]
  },
  {
   "cell_type": "code",
   "execution_count": 73,
   "id": "ec18350b",
   "metadata": {},
   "outputs": [],
   "source": [
    "StartIndex = []\n",
    "EndIndex = [] \n",
    "for eventtime in eventtimes_start: # go through each event start time, one at a time\n",
    "    EventStartTime = eventtime * 1000  # Convert to Milliseconds\n",
    "    #EventEndTime = (eventtime) * 1000  # no need to Add .650 seconds for p300 then convert to Milliseconds \n",
    "\n",
    "    # with our new times, lets find the closest times in our csv file\n",
    "    StartIndex.append(round(EventStartTime/(1000/f))) \n",
    "    \n",
    "for eventtime in eventtimes_end: # go through each event start time, one at a time\n",
    "    EventEndTime = eventtime * 1000  # Convert to Milliseconds\n",
    "    #EventEndTime = (eventtime) * 1000  # no need to Add .650 seconds for p300 then convert to Milliseconds \n",
    "\n",
    "    # with our new times, lets find the closest times in our csv file\n",
    "    EndIndex.append(round(EventEndTime/(1000/f))) "
   ]
  },
  {
   "cell_type": "code",
   "execution_count": 74,
   "id": "6b7e3168",
   "metadata": {},
   "outputs": [
    {
     "data": {
      "text/html": [
       "<div>\n",
       "<style scoped>\n",
       "    .dataframe tbody tr th:only-of-type {\n",
       "        vertical-align: middle;\n",
       "    }\n",
       "\n",
       "    .dataframe tbody tr th {\n",
       "        vertical-align: top;\n",
       "    }\n",
       "\n",
       "    .dataframe thead th {\n",
       "        text-align: right;\n",
       "    }\n",
       "</style>\n",
       "<table border=\"1\" class=\"dataframe\">\n",
       "  <thead>\n",
       "    <tr style=\"text-align: right;\">\n",
       "      <th></th>\n",
       "      <th>Time</th>\n",
       "      <th>ECG</th>\n",
       "    </tr>\n",
       "  </thead>\n",
       "  <tbody>\n",
       "    <tr>\n",
       "      <th>0</th>\n",
       "      <td>0.000000</td>\n",
       "      <td>512.0</td>\n",
       "    </tr>\n",
       "    <tr>\n",
       "      <th>1</th>\n",
       "      <td>4.065430</td>\n",
       "      <td>512.0</td>\n",
       "    </tr>\n",
       "    <tr>\n",
       "      <th>2</th>\n",
       "      <td>8.130859</td>\n",
       "      <td>511.0</td>\n",
       "    </tr>\n",
       "    <tr>\n",
       "      <th>3</th>\n",
       "      <td>12.196289</td>\n",
       "      <td>511.0</td>\n",
       "    </tr>\n",
       "    <tr>\n",
       "      <th>4</th>\n",
       "      <td>16.261719</td>\n",
       "      <td>511.0</td>\n",
       "    </tr>\n",
       "  </tbody>\n",
       "</table>\n",
       "</div>"
      ],
      "text/plain": [
       "        Time    ECG\n",
       "0   0.000000  512.0\n",
       "1   4.065430  512.0\n",
       "2   8.130859  511.0\n",
       "3  12.196289  511.0\n",
       "4  16.261719  511.0"
      ]
     },
     "execution_count": 74,
     "metadata": {},
     "output_type": "execute_result"
    }
   ],
   "source": [
    "# Let's print ECG data and see what's hiding there\n",
    "df.head()"
   ]
  },
  {
   "cell_type": "code",
   "execution_count": 75,
   "id": "042f3b5b",
   "metadata": {},
   "outputs": [],
   "source": [
    "### Data to numpy array\n",
    "ECG_Data = df.to_numpy(copy=False)"
   ]
  },
  {
   "cell_type": "code",
   "execution_count": 76,
   "id": "d0dd465d",
   "metadata": {},
   "outputs": [],
   "source": [
    "### Min-Max Normalization \n",
    "v = ECG_Data[:, 1]   \n",
    "ECG_Data[:, 1] = (v - v.min()) / (v.max() - v.min())"
   ]
  },
  {
   "cell_type": "code",
   "execution_count": 77,
   "id": "f8b33967",
   "metadata": {},
   "outputs": [],
   "source": [
    "### Extract the acceleration events from start index (end indexes not included as some events are too short)\n",
    "### For this, I will include 5 seconds after the event start index\n",
    "### 5 s = 5000 ms ; sample rate = 4.065514218205907 ; 5000 / 4.065514218205907 = ceiling(1229.8567245465144) = 1230 instances after start index \n",
    "ECG_Agg_Acc = []\n",
    "for i in range(len(StartIndex)):\n",
    "    ECG_Agg_Acc.append(ECG_Data[range(StartIndex[i],StartIndex[i]+1230),:])"
   ]
  },
  {
   "cell_type": "code",
   "execution_count": 78,
   "id": "21d10fb9",
   "metadata": {},
   "outputs": [],
   "source": [
    "##############################################################################\n",
    "# Extracting ibi and bpm from aggressive acceleration in session 1\n",
    "##############################################################################\n",
    "\n",
    "### Empty arrays \n",
    "ibi = np.zeros(len(ECG_Agg_Acc))\n",
    "bpm = np.zeros(len(ECG_Agg_Acc))\n",
    "sample_rate = np.zeros(len(ECG_Agg_Acc))\n",
    "filtered = []"
   ]
  },
  {
   "cell_type": "code",
   "execution_count": 79,
   "id": "457b7fea",
   "metadata": {},
   "outputs": [],
   "source": [
    "### Source: https://docs.scipy.org/doc/scipy/reference/generated/scipy.signal.find_peaks.html\n",
    "from scipy.signal import find_peaks\n",
    "for i in range(len(ECG_Agg_Acc)):\n",
    "    # Find sample and remove baseline wander and plot\n",
    "    sample_rate[i] = hp.get_samplerate_mstimer(ECG_Agg_Acc[i][:,0])\n",
    "    filtered.append(hp.remove_baseline_wander(ECG_Agg_Acc[i][:,1], sample_rate[i]))\n",
    "    #plt.figure(figsize=(12,3))\n",
    "    #plt.title('Signal with Baseline Wander Removed')\n",
    "    #plt.plot(filtered[i])\n",
    "    #plt.show()\n",
    "    \n",
    "    # Finding peak / rr list \n",
    "    peaks, _ = find_peaks(filtered[i], height=0, distance = 150) #consider maxima above 0\n",
    "                                                                 #positions of QRS complex within the ECG by demanding a distance of at least 150 samples\n",
    "    # Plot with peaks of R in ECG (results show some misinterpreted peaks but negligible)\n",
    "    #x = filtered[i]\n",
    "    #plt.plot(x)\n",
    "    #plt.plot(peaks, x[peaks], \"x\")\n",
    "    #plt.plot(np.zeros_like(x), \"--\", color=\"gray\")\n",
    "    #plt.show()\n",
    "    \n",
    "    # Find the time (ms) difference between each R wave = ibi = interbeat interval\n",
    "    #RR_list = peaks.copy() #instances of where rr peaks occur\n",
    "    ibi[i] = np.diff(ECG_Agg_Acc[i][:,0][peaks]).mean() \n",
    "    bpm[i] = 60000 / ibi[i]"
   ]
  },
  {
   "cell_type": "code",
   "execution_count": 80,
   "id": "db33453e",
   "metadata": {},
   "outputs": [],
   "source": [
    "ibibpm = np.vstack((ibi, bpm)).T"
   ]
  },
  {
   "cell_type": "markdown",
   "id": "90d58871",
   "metadata": {},
   "source": [
    "We keep re-running the cells above, changing the type of event and then storing the outputted values of ibi and bpm in dataframes"
   ]
  },
  {
   "cell_type": "code",
   "execution_count": 50,
   "id": "15db1c5e",
   "metadata": {},
   "outputs": [
    {
     "name": "stdout",
     "output_type": "stream",
     "text": [
      "(97, 2)\n"
     ]
    }
   ],
   "source": [
    "df_ecg_accel = pd.DataFrame(ibibpm, columns = ['ibi', 'bpm'])\n",
    "print(df_ecg_accel.shape)\n",
    "df_ecg_accel.to_csv(\"ecg_accel.csv\", index = False)"
   ]
  },
  {
   "cell_type": "code",
   "execution_count": 63,
   "id": "636e68b8",
   "metadata": {},
   "outputs": [
    {
     "name": "stdout",
     "output_type": "stream",
     "text": [
      "(56, 2)\n"
     ]
    }
   ],
   "source": [
    "df_ecg_brake = pd.DataFrame(ibibpm, columns = ['ibi', 'bpm'])\n",
    "print(df_ecg_brake.shape)\n",
    "df_ecg_brake.to_csv(\"ecg_brake.csv\", index = False)"
   ]
  },
  {
   "cell_type": "code",
   "execution_count": 81,
   "id": "fcc02473",
   "metadata": {},
   "outputs": [
    {
     "name": "stdout",
     "output_type": "stream",
     "text": [
      "(53, 2)\n"
     ]
    }
   ],
   "source": [
    "df_ecg_lane = pd.DataFrame(ibibpm, columns = ['ibi', 'bpm'])\n",
    "print(df_ecg_lane.shape)\n",
    "df_ecg_lane.to_csv(\"ecg_lane.csv\", index = False)"
   ]
  }
 ],
 "metadata": {
  "kernelspec": {
   "display_name": "Python 3 (ipykernel)",
   "language": "python",
   "name": "python3"
  },
  "language_info": {
   "codemirror_mode": {
    "name": "ipython",
    "version": 3
   },
   "file_extension": ".py",
   "mimetype": "text/x-python",
   "name": "python",
   "nbconvert_exporter": "python",
   "pygments_lexer": "ipython3",
   "version": "3.9.12"
  }
 },
 "nbformat": 4,
 "nbformat_minor": 5
}
