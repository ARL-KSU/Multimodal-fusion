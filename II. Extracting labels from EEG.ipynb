{
 "cells": [
  {
   "cell_type": "code",
   "execution_count": 94,
   "id": "ba456630",
   "metadata": {},
   "outputs": [],
   "source": [
    "import matplotlib\n",
    "import pathlib\n",
    "import mne\n",
    "import mne.viz\n",
    "import random\n",
    "import csv\n",
    "import os\n",
    "\n",
    "import numpy as np\n",
    "import pandas as pd\n",
    "from tkinter import Tk     # from tkinter import Tk for Python 3.x\n",
    "from tkinter import filedialog"
   ]
  },
  {
   "cell_type": "code",
   "execution_count": 95,
   "id": "0b091fbc",
   "metadata": {},
   "outputs": [],
   "source": [
    "matplotlib.use('Qt5Agg')"
   ]
  },
  {
   "cell_type": "code",
   "execution_count": 96,
   "id": "dc76a98f",
   "metadata": {},
   "outputs": [],
   "source": [
    "#You dont need to understand this, just know that it takes a list of numbers, and a desired value. It will return the closest value in the list to K\n",
    "def closest(lst, K):\n",
    "    return lst[min(range(len(lst)), key=lambda i: abs(lst[i] - K))]\n",
    "\n",
    "#open a dialog box and get the selected csv file\n",
    "root = Tk()\n",
    "root.withdraw()\n",
    "csvfile = filedialog.askopenfile(parent=root,mode='r',filetypes=[('Excel file','*.csv')],title='Choose CSV file')\n",
    "\n",
    "# open another dialog box and get the selected tsv file\n",
    "tsvfile = filedialog.askopenfile(parent=root,mode='r',filetypes=[('Excel file','*.tsv')],title='Choose TSV file')\n",
    "\n",
    "\n",
    "# What kind of events do you want? These should be the EXACT text of what is in the tsv column\n",
    "eventtype5 = 'Event/Description/Driver begins braking'\n",
    "eventtype2 = 'Event/Description/Driver changes lanes to the left'\n",
    "eventtype4 = 'Event/Description/Driver changes lanes to the right'\n",
    "eventtype3 = 'Event/Description/Driver begins accelerating at an aggressive rate'\n",
    "\n",
    "eventtimes5 = [] # create a blank list of event times\n",
    "eventtimes2 = [] # create a blank list of event times\n",
    "eventtimes4 = [] # create a blank list of event times\n",
    "eventtimes3 = [] # create a blank list of event times\n",
    "\n",
    "f = 256"
   ]
  },
  {
   "cell_type": "markdown",
   "id": "d89789c8",
   "metadata": {},
   "source": [
    "### Braking event"
   ]
  },
  {
   "cell_type": "code",
   "execution_count": 97,
   "id": "dea7a75c",
   "metadata": {},
   "outputs": [
    {
     "name": "stdout",
     "output_type": "stream",
     "text": [
      " Event/Description/Driver begins braking\n",
      " Event/Description/Driver begins braking\n",
      " Event/Description/Driver begins braking\n",
      " Event/Description/Driver begins braking\n",
      " Event/Description/Driver begins braking\n",
      " Event/Description/Driver begins braking\n",
      " Event/Description/Driver begins braking\n",
      " Event/Description/Driver begins braking\n",
      " Event/Description/Driver begins braking\n",
      " Event/Description/Driver begins braking\n",
      " Event/Description/Driver begins braking\n",
      " Event/Description/Driver begins braking\n",
      " Event/Description/Driver begins braking\n",
      " Event/Description/Driver begins braking\n",
      " Event/Description/Driver begins braking\n",
      " Event/Description/Driver begins braking\n",
      " Event/Description/Driver begins braking\n",
      " Event/Description/Driver begins braking\n",
      " Event/Description/Driver begins braking\n",
      " Event/Description/Driver begins braking\n",
      " Event/Description/Driver begins braking\n",
      " Event/Description/Driver begins braking\n",
      " Event/Description/Driver begins braking\n",
      " Event/Description/Driver begins braking\n",
      " Event/Description/Driver begins braking\n",
      " Event/Description/Driver begins braking\n",
      " Event/Description/Driver begins braking\n",
      " Event/Description/Driver begins braking\n",
      " Event/Description/Driver begins braking\n",
      " Event/Description/Driver begins braking\n",
      " Event/Description/Driver begins braking\n",
      " Event/Description/Driver begins braking\n",
      " Event/Description/Driver begins braking\n",
      " Event/Description/Driver begins braking\n",
      " Event/Description/Driver begins braking\n",
      " Event/Description/Driver begins braking\n",
      " Event/Description/Driver begins braking\n",
      " Event/Description/Driver begins braking\n",
      " Event/Description/Driver begins braking\n",
      " Event/Description/Driver begins braking\n",
      " Event/Description/Driver begins braking\n",
      " Event/Description/Driver begins braking\n",
      " Event/Description/Driver begins braking\n",
      " Event/Description/Driver begins braking\n",
      " Event/Description/Driver begins braking\n",
      " Event/Description/Driver begins braking\n",
      " Event/Description/Driver begins braking\n",
      " Event/Description/Driver begins braking\n",
      " Event/Description/Driver begins braking\n",
      " Event/Description/Driver begins braking\n",
      " Event/Description/Driver begins braking\n",
      " Event/Description/Driver begins braking\n",
      " Event/Description/Driver begins braking\n",
      " Event/Description/Driver begins braking\n",
      " Event/Description/Driver begins braking\n",
      " Event/Description/Driver begins braking\n",
      "The Total Number of Driver begins braking events = 56\n"
     ]
    }
   ],
   "source": [
    "with open(tsvfile.name) as fd:\n",
    "    rd = csv.reader(fd, delimiter=\"\\t\", quotechar='\"') # read the file, line by line, into seperate rows\n",
    "    for row in rd: # for each row in the tsv file\n",
    "        data = row[2].split(',') # this 'splits' our row string by commas and creates a list of elements\n",
    "        if eventtype5 in data[1]: # this checks to see if our event type string (eventtype above) is inside of current tsv file event\n",
    "            eventtimes5.append(float(row[1])) # if its the kind of event we want, lets add it to our eventtimes list\n",
    "            print(data[1])\n",
    "\n",
    "     \n",
    "    df = pd.read_csv(csvfile.name) \n",
    "    times = df.Time.tolist()\n",
    "    print('The Total Number of Driver begins braking events = ' + str(len(eventtimes5)))\n",
    "    \n",
    "    times_brake = times.copy()\n",
    "    df_brake = df.copy()"
   ]
  },
  {
   "cell_type": "code",
   "execution_count": 98,
   "id": "092bafb1",
   "metadata": {},
   "outputs": [
    {
     "name": "stdout",
     "output_type": "stream",
     "text": [
      " Event/Description/Driver begins accelerating at an aggressive rate\n",
      " Event/Description/Driver begins accelerating at an aggressive rate\n",
      " Event/Description/Driver begins accelerating at an aggressive rate\n",
      " Event/Description/Driver begins accelerating at an aggressive rate\n",
      " Event/Description/Driver begins accelerating at an aggressive rate\n",
      " Event/Description/Driver begins accelerating at an aggressive rate\n",
      " Event/Description/Driver begins accelerating at an aggressive rate\n",
      " Event/Description/Driver begins accelerating at an aggressive rate\n",
      " Event/Description/Driver begins accelerating at an aggressive rate\n",
      " Event/Description/Driver begins accelerating at an aggressive rate\n",
      " Event/Description/Driver begins accelerating at an aggressive rate\n",
      " Event/Description/Driver begins accelerating at an aggressive rate\n",
      " Event/Description/Driver begins accelerating at an aggressive rate\n",
      " Event/Description/Driver begins accelerating at an aggressive rate\n",
      " Event/Description/Driver begins accelerating at an aggressive rate\n",
      " Event/Description/Driver begins accelerating at an aggressive rate\n",
      " Event/Description/Driver begins accelerating at an aggressive rate\n",
      " Event/Description/Driver begins accelerating at an aggressive rate\n",
      " Event/Description/Driver begins accelerating at an aggressive rate\n",
      " Event/Description/Driver begins accelerating at an aggressive rate\n",
      " Event/Description/Driver begins accelerating at an aggressive rate\n",
      " Event/Description/Driver begins accelerating at an aggressive rate\n",
      " Event/Description/Driver begins accelerating at an aggressive rate\n",
      " Event/Description/Driver begins accelerating at an aggressive rate\n",
      " Event/Description/Driver begins accelerating at an aggressive rate\n",
      " Event/Description/Driver begins accelerating at an aggressive rate\n",
      " Event/Description/Driver begins accelerating at an aggressive rate\n",
      " Event/Description/Driver begins accelerating at an aggressive rate\n",
      " Event/Description/Driver begins accelerating at an aggressive rate\n",
      " Event/Description/Driver begins accelerating at an aggressive rate\n",
      " Event/Description/Driver begins accelerating at an aggressive rate\n",
      " Event/Description/Driver begins accelerating at an aggressive rate\n",
      " Event/Description/Driver begins accelerating at an aggressive rate\n",
      " Event/Description/Driver begins accelerating at an aggressive rate\n",
      " Event/Description/Driver begins accelerating at an aggressive rate\n",
      " Event/Description/Driver begins accelerating at an aggressive rate\n",
      " Event/Description/Driver begins accelerating at an aggressive rate\n",
      " Event/Description/Driver begins accelerating at an aggressive rate\n",
      " Event/Description/Driver begins accelerating at an aggressive rate\n",
      " Event/Description/Driver begins accelerating at an aggressive rate\n",
      " Event/Description/Driver begins accelerating at an aggressive rate\n",
      " Event/Description/Driver begins accelerating at an aggressive rate\n",
      " Event/Description/Driver begins accelerating at an aggressive rate\n",
      " Event/Description/Driver begins accelerating at an aggressive rate\n",
      " Event/Description/Driver begins accelerating at an aggressive rate\n",
      " Event/Description/Driver begins accelerating at an aggressive rate\n",
      " Event/Description/Driver begins accelerating at an aggressive rate\n",
      " Event/Description/Driver begins accelerating at an aggressive rate\n",
      " Event/Description/Driver begins accelerating at an aggressive rate\n",
      " Event/Description/Driver begins accelerating at an aggressive rate\n",
      " Event/Description/Driver begins accelerating at an aggressive rate\n",
      " Event/Description/Driver begins accelerating at an aggressive rate\n",
      " Event/Description/Driver begins accelerating at an aggressive rate\n",
      " Event/Description/Driver begins accelerating at an aggressive rate\n",
      " Event/Description/Driver begins accelerating at an aggressive rate\n",
      " Event/Description/Driver begins accelerating at an aggressive rate\n",
      " Event/Description/Driver begins accelerating at an aggressive rate\n",
      " Event/Description/Driver begins accelerating at an aggressive rate\n",
      " Event/Description/Driver begins accelerating at an aggressive rate\n",
      " Event/Description/Driver begins accelerating at an aggressive rate\n",
      " Event/Description/Driver begins accelerating at an aggressive rate\n",
      " Event/Description/Driver begins accelerating at an aggressive rate\n",
      " Event/Description/Driver begins accelerating at an aggressive rate\n",
      " Event/Description/Driver begins accelerating at an aggressive rate\n",
      " Event/Description/Driver begins accelerating at an aggressive rate\n",
      " Event/Description/Driver begins accelerating at an aggressive rate\n",
      " Event/Description/Driver begins accelerating at an aggressive rate\n",
      " Event/Description/Driver begins accelerating at an aggressive rate\n",
      " Event/Description/Driver begins accelerating at an aggressive rate\n",
      " Event/Description/Driver begins accelerating at an aggressive rate\n",
      " Event/Description/Driver begins accelerating at an aggressive rate\n",
      " Event/Description/Driver begins accelerating at an aggressive rate\n",
      " Event/Description/Driver begins accelerating at an aggressive rate\n",
      " Event/Description/Driver begins accelerating at an aggressive rate\n",
      " Event/Description/Driver begins accelerating at an aggressive rate\n",
      " Event/Description/Driver begins accelerating at an aggressive rate\n",
      " Event/Description/Driver begins accelerating at an aggressive rate\n",
      " Event/Description/Driver begins accelerating at an aggressive rate\n",
      " Event/Description/Driver begins accelerating at an aggressive rate\n",
      " Event/Description/Driver begins accelerating at an aggressive rate\n",
      " Event/Description/Driver begins accelerating at an aggressive rate\n",
      " Event/Description/Driver begins accelerating at an aggressive rate\n",
      " Event/Description/Driver begins accelerating at an aggressive rate\n",
      " Event/Description/Driver begins accelerating at an aggressive rate\n",
      " Event/Description/Driver begins accelerating at an aggressive rate\n",
      " Event/Description/Driver begins accelerating at an aggressive rate\n",
      " Event/Description/Driver begins accelerating at an aggressive rate\n",
      " Event/Description/Driver begins accelerating at an aggressive rate\n",
      " Event/Description/Driver begins accelerating at an aggressive rate\n",
      " Event/Description/Driver begins accelerating at an aggressive rate\n",
      " Event/Description/Driver begins accelerating at an aggressive rate\n",
      " Event/Description/Driver begins accelerating at an aggressive rate\n",
      " Event/Description/Driver begins accelerating at an aggressive rate\n",
      " Event/Description/Driver begins accelerating at an aggressive rate\n",
      " Event/Description/Driver begins accelerating at an aggressive rate\n",
      " Event/Description/Driver begins accelerating at an aggressive rate\n",
      " Event/Description/Driver begins accelerating at an aggressive rate\n",
      "The Total Number of Driver begins accelerating at an aggressive rate = 97\n"
     ]
    }
   ],
   "source": [
    "with open(tsvfile.name) as fd:\n",
    "    rd = csv.reader(fd, delimiter=\"\\t\", quotechar='\"') # read the file, line by line, into seperate rows\n",
    "    for row in rd: # for each row in the tsv file\n",
    "        data = row[2].split(',') # this 'splits' our row string by commas and creates a list of elements\n",
    "        if eventtype3 in data[1]: # this checks to see if our event type string (eventtype above) is inside of current tsv file event\n",
    "            eventtimes3.append(float(row[1])) # if its the kind of event we want, lets add it to our eventtimes list\n",
    "            print(data[1])\n",
    "\n",
    "     \n",
    "    df = pd.read_csv(csvfile.name) \n",
    "    times = df.Time.tolist()\n",
    "    print('The Total Number of Driver begins accelerating at an aggressive rate = ' + str(len(eventtimes3)))\n",
    "    \n",
    "    times_accel = times.copy()\n",
    "    df_accel = df.copy()"
   ]
  },
  {
   "cell_type": "code",
   "execution_count": 99,
   "id": "da03e1c9",
   "metadata": {},
   "outputs": [
    {
     "name": "stdout",
     "output_type": "stream",
     "text": [
      "The Total Number of Driver shifts lane left = 27\n"
     ]
    }
   ],
   "source": [
    "with open(tsvfile.name) as fd:\n",
    "    rd = csv.reader(fd, delimiter=\"\\t\", quotechar='\"') # read the file, line by line, into seperate rows\n",
    "    for row in rd: # for each row in the tsv file\n",
    "        data = row[2].split(',') # this 'splits' our row string by commas and creates a list of elements\n",
    "        if eventtype2 in data[1]: # this checks to see if our event type string (eventtype above) is inside of current tsv file event\n",
    "            eventtimes2.append(float(row[1])) # if its the kind of event we want, lets add it to our eventtimes list\n",
    "\n",
    "     \n",
    "    df = pd.read_csv(csvfile.name) \n",
    "    times = df.Time.tolist()\n",
    "    print('The Total Number of Driver shifts lane left = ' + str(len(eventtimes2)))\n",
    "    \n",
    "    times_left = times.copy()\n",
    "    df_left = df.copy()"
   ]
  },
  {
   "cell_type": "code",
   "execution_count": 100,
   "id": "ad627f00",
   "metadata": {},
   "outputs": [
    {
     "name": "stdout",
     "output_type": "stream",
     "text": [
      "The Total Number of Driver shifts lane right = 26\n"
     ]
    }
   ],
   "source": [
    "with open(tsvfile.name) as fd:\n",
    "    rd = csv.reader(fd, delimiter=\"\\t\", quotechar='\"') # read the file, line by line, into seperate rows\n",
    "    for row in rd: # for each row in the tsv file\n",
    "        data = row[2].split(',') # this 'splits' our row string by commas and creates a list of elements\n",
    "        if eventtype4 in data[1]: # this checks to see if our event type string (eventtype above) is inside of current tsv file event\n",
    "            eventtimes4.append(float(row[1])) # if its the kind of event we want, lets add it to our eventtimes list\n",
    "\n",
    "     \n",
    "    df = pd.read_csv(csvfile.name) \n",
    "    times = df.Time.tolist()\n",
    "    print('The Total Number of Driver shifts lane right = ' + str(len(eventtimes4)))\n",
    "    \n",
    "    times_right = times.copy()\n",
    "    df_right = df.copy()"
   ]
  },
  {
   "cell_type": "markdown",
   "id": "cb1d953c",
   "metadata": {},
   "source": [
    "### Braking Sint"
   ]
  },
  {
   "cell_type": "code",
   "execution_count": 103,
   "id": "69f93667",
   "metadata": {},
   "outputs": [
    {
     "name": "stdout",
     "output_type": "stream",
     "text": [
      "[2140.6094, 2149.5156, 2185.4102, 2211.4688, 2225.6289, 2253.0195, 2255.5234, 2305.6719, 2338.8203, 2362.7188, 2392.3711, 2418.6016, 2454.418, 2518.207, 2525.0039, 2530.0, 2585.4727, 3211.9023, 3218.5, 3221.7656, 3563.375, 3580.9414, 3695.9063, 3710.6367, 4643.0234, 4647.6406, 4656.9766, 4659.9883, 4666.8047, 4835.8359, 4990.3906, 5025.7656, 5032.6797, 5060.7227, 5064.9609, 5068.9336, 5071.8711, 5115.8125, 5208.9258, 5210.9609, 5215.6328, 5288.2734, 5354.8281, 5364.3281, 5376.3867, 5471.3203, 5474.3047, 5497.0156, 5512.9102, 5517.5234, 5522.9102, 5531.0195, 5541.1602, 5544.9492, 5568.7852, 5571.6758]\n",
      "[]\n",
      "56\n"
     ]
    }
   ],
   "source": [
    "print (eventtimes5)\n",
    "StartIndex = np.array([]) \n",
    "print(StartIndex)\n",
    "print(len(eventtimes5))"
   ]
  },
  {
   "cell_type": "code",
   "execution_count": 104,
   "id": "dc2b6d02",
   "metadata": {},
   "outputs": [],
   "source": [
    "for eventtime in eventtimes5: # go through each event start time, one at a time\\n\",\n",
    "      EventStartTime = eventtime * 1000  # Convert to Milliseconds\n",
    "      B = round(EventStartTime/(1000/f)) \n",
    "      StartIndex=np.append(StartIndex,B) \n",
    "\n",
    "Sint= np.rint(StartIndex)\n",
    "\n",
    "columnHeaders = ['C']"
   ]
  },
  {
   "cell_type": "markdown",
   "id": "fcf5a540",
   "metadata": {},
   "source": [
    "### Acceleration   Sint3"
   ]
  },
  {
   "cell_type": "code",
   "execution_count": 106,
   "id": "5c6cf303",
   "metadata": {
    "scrolled": true
   },
   "outputs": [
    {
     "name": "stdout",
     "output_type": "stream",
     "text": [
      "[ 548012.  560310.  560830.  562824.  563032.  563209.  568004.  568290.\n",
      "  570413.  570807.  571577.  578862.  579238.  579778.  580451.  593879.\n",
      "  594243.  621074.  630784.  631387.  631583.  649784.  650318.  650803.\n",
      "  659570.  665349.  939497.  939716.  939795.  940261.  940901.  941021.\n",
      "  941098.  941256.  942198.  942553.  948092.  948356.  952682.  953279.\n",
      "  954312.  955346.  955579.  961605.  985956. 1000491. 1016689. 1018559.\n",
      " 1023478. 1036719. 1060358. 1071836. 1086430. 1087358. 1096261. 1107050.\n",
      " 1111871. 1120401. 1125319. 1139242. 1152118. 1155437. 1158648. 1230477.\n",
      " 1231205. 1264217. 1264742. 1279595. 1280556. 1280802. 1312196. 1374299.\n",
      " 1399529. 1399924. 1402753. 1404685. 1406480. 1406616. 1408881. 1410415.\n",
      " 1410453. 1410591. 1410650. 1410804. 1412268. 1413075. 1414750. 1415436.\n",
      " 1417796. 1419348. 1419701. 1421765. 1422747. 1423265. 1424193. 1424900.\n",
      " 1426290.]\n"
     ]
    }
   ],
   "source": [
    "StartIndex = np.array([]) \n",
    "\n",
    "for eventtime in eventtimes3: # go through each event start time, one at a time\\n\",\n",
    "      EventStartTime = eventtime * 1000  # Convert to Milliseconds\n",
    "      B = round(EventStartTime/(1000/f)) \n",
    "      StartIndex=np.append(StartIndex,B) \n",
    "\n",
    "len(StartIndex)\n",
    "Sint3= np.rint(StartIndex)\n",
    "print(Sint3) \n",
    "columnHeaders = ['C']"
   ]
  },
  {
   "cell_type": "markdown",
   "id": "c8699325",
   "metadata": {},
   "source": [
    "### Left lane change Sint2"
   ]
  },
  {
   "cell_type": "code",
   "execution_count": 108,
   "id": "d1742739",
   "metadata": {},
   "outputs": [
    {
     "name": "stdout",
     "output_type": "stream",
     "text": [
      "[ 577571.  582735.  601502.  676957.  683846.  693118.  715737.  743184.\n",
      "  761247.  780618.  830543.  862141.  868279.  887149.  891197.  965231.\n",
      "  966001.  968253. 1023438. 1036507. 1054003. 1071776. 1103032. 1148852.\n",
      " 1179671. 1375881. 1377615.]\n"
     ]
    }
   ],
   "source": [
    "StartIndex = np.array([]) \n",
    "\n",
    "for eventtime in eventtimes2: # go through each event start time, one at a time\\n\",\n",
    "      EventStartTime = eventtime * 1000  # Convert to Milliseconds\n",
    "      B = round(EventStartTime/(1000/f)) \n",
    "      StartIndex=np.append(StartIndex,B) \n",
    "\n",
    "len(StartIndex)\n",
    "Sint2= np.rint(StartIndex)\n",
    "print(Sint2) \n",
    "columnHeaders = ['C']"
   ]
  },
  {
   "cell_type": "markdown",
   "id": "f1551730",
   "metadata": {},
   "source": [
    "### Right lane Sint4"
   ]
  },
  {
   "cell_type": "code",
   "execution_count": 109,
   "id": "1a41cde8",
   "metadata": {},
   "outputs": [
    {
     "name": "stdout",
     "output_type": "stream",
     "text": [
      "[ 590201.  600666.  619743.  661813.  706465.  720806.  746655.  766083.\n",
      "  823246.  846262.  865379.  871876.  881869.  895918.  905970.  943106.\n",
      " 1007591. 1028285. 1049380. 1060633. 1139682. 1153039. 1174812. 1368101.\n",
      " 1368657. 1369382.]\n"
     ]
    }
   ],
   "source": [
    "StartIndex = np.array([]) \n",
    "\n",
    "for eventtime in eventtimes4: # go through each event start time, one at a time\\n\",\n",
    "      EventStartTime = eventtime * 1000  # Convert to Milliseconds\n",
    "      B = round(EventStartTime/(1000/f)) \n",
    "      StartIndex=np.append(StartIndex,B) \n",
    "\n",
    "len(StartIndex)\n",
    "Sint4= np.rint(StartIndex)\n",
    "print(Sint4) \n",
    "columnHeaders = ['C']"
   ]
  },
  {
   "cell_type": "markdown",
   "id": "e4f67e45",
   "metadata": {},
   "source": [
    "### Merging Sint2 and Sint4"
   ]
  },
  {
   "cell_type": "code",
   "execution_count": 110,
   "id": "9c8cae5d",
   "metadata": {},
   "outputs": [
    {
     "data": {
      "text/plain": [
       "array([ 577571.,  582735.,  601502.,  676957.,  683846.,  693118.,\n",
       "        715737.,  743184.,  761247.,  780618.,  830543.,  862141.,\n",
       "        868279.,  887149.,  891197.,  965231.,  966001.,  968253.,\n",
       "       1023438., 1036507., 1054003., 1071776., 1103032., 1148852.,\n",
       "       1179671., 1375881., 1377615.,  590201.,  600666.,  619743.,\n",
       "        661813.,  706465.,  720806.,  746655.,  766083.,  823246.,\n",
       "        846262.,  865379.,  871876.,  881869.,  895918.,  905970.,\n",
       "        943106., 1007591., 1028285., 1049380., 1060633., 1139682.,\n",
       "       1153039., 1174812., 1368101., 1368657., 1369382.])"
      ]
     },
     "execution_count": 110,
     "metadata": {},
     "output_type": "execute_result"
    }
   ],
   "source": [
    "Sint0 = np.concatenate((Sint2, Sint4), axis=0)\n",
    "Sint0"
   ]
  },
  {
   "cell_type": "code",
   "execution_count": 126,
   "id": "e69d24c0",
   "metadata": {},
   "outputs": [
    {
     "name": "stdout",
     "output_type": "stream",
     "text": [
      "(53,)\n",
      "(56,)\n",
      "(97,)\n"
     ]
    }
   ],
   "source": [
    "print(Sint0.shape)\n",
    "print(Sint.shape)\n",
    "print(Sint3.shape)"
   ]
  },
  {
   "cell_type": "markdown",
   "id": "cc718a77",
   "metadata": {},
   "source": [
    "### Reading ECG files"
   ]
  },
  {
   "cell_type": "markdown",
   "id": "4b2cee4d",
   "metadata": {},
   "source": [
    "These files are output by **I. Labels extraction.ipynb** script"
   ]
  },
  {
   "cell_type": "code",
   "execution_count": 112,
   "id": "c1c28320",
   "metadata": {},
   "outputs": [],
   "source": [
    "df_ecg_brake = pd.read_csv(\"ecg_brake.csv\")\n",
    "df_ecg_lane = pd.read_csv(\"ecg_lane.csv\")\n",
    "df_ecg_accel = pd.read_csv(\"ecg_accel.csv\")"
   ]
  },
  {
   "cell_type": "code",
   "execution_count": 113,
   "id": "01a2dd42",
   "metadata": {},
   "outputs": [
    {
     "name": "stdout",
     "output_type": "stream",
     "text": [
      "(56, 2)\n",
      "(53, 2)\n",
      "(97, 2)\n"
     ]
    }
   ],
   "source": [
    "print(df_ecg_brake.shape)\n",
    "print(df_ecg_lane.shape)\n",
    "print(df_ecg_accel.shape)"
   ]
  },
  {
   "cell_type": "markdown",
   "id": "ffc7ef1f",
   "metadata": {},
   "source": [
    "### Choosing file  forget about it for now - get the studyLevel file for dyad 5"
   ]
  },
  {
   "cell_type": "markdown",
   "id": "a2ab47ea",
   "metadata": {},
   "source": [
    "### Also copy the df file "
   ]
  },
  {
   "cell_type": "code",
   "execution_count": 127,
   "id": "4119acd7",
   "metadata": {},
   "outputs": [],
   "source": [
    "df_eeg = df.copy()"
   ]
  },
  {
   "cell_type": "markdown",
   "id": "930e6b90",
   "metadata": {},
   "source": [
    "### Now extracting ECG data"
   ]
  },
  {
   "cell_type": "code",
   "execution_count": 128,
   "id": "b697e02c",
   "metadata": {},
   "outputs": [],
   "source": [
    "df_ecg = pd.read_csv(\"ECG_P_session_5.csv\")"
   ]
  },
  {
   "cell_type": "markdown",
   "id": "2ac99ddb",
   "metadata": {},
   "source": [
    "### Relabeling and merging events from EEG file"
   ]
  },
  {
   "cell_type": "markdown",
   "id": "34f22780",
   "metadata": {},
   "source": [
    "- Sint - stands for braking, will code it as 1\n",
    "- Sint3 - stands for acceleration, will code it as 2\n",
    "- Sint0 - stands for lane change, will code it as 3\n",
    "- All these vectors will be stacked on top of each other and then merged with EEG dataframe. Missing values will be recoded as 0"
   ]
  },
  {
   "cell_type": "code",
   "execution_count": 129,
   "id": "dd8f2a88",
   "metadata": {},
   "outputs": [
    {
     "data": {
      "text/plain": [
       "(56, 2)"
      ]
     },
     "execution_count": 129,
     "metadata": {},
     "output_type": "execute_result"
    }
   ],
   "source": [
    "# Sint\n",
    "# Stack eventid and Sint vertically and then convert to dataframe. We have to transpose the stacked matrix first\n",
    "eventid = np.repeat(1, repeats = len(Sint))\n",
    "df_brake = np.vstack((Sint, eventid)).T\n",
    "df_brake = pd.DataFrame(df_brake, columns = ['Time', 'event'])\n",
    "df_brake.shape"
   ]
  },
  {
   "cell_type": "markdown",
   "id": "e67c6e60",
   "metadata": {},
   "source": [
    "#### Now we apply whatever we did with Sint to SInt3 and Sint0"
   ]
  },
  {
   "cell_type": "code",
   "execution_count": 130,
   "id": "4bfb0ef6",
   "metadata": {},
   "outputs": [
    {
     "data": {
      "text/plain": [
       "(97, 2)"
      ]
     },
     "execution_count": 130,
     "metadata": {},
     "output_type": "execute_result"
    }
   ],
   "source": [
    "# Sint3\n",
    "eventid = np.repeat(2, repeats = len(Sint3))\n",
    "df_accel = np.vstack((Sint3, eventid)).T\n",
    "df_accel = pd.DataFrame(df_accel, columns = ['Time', 'event'])\n",
    "df_accel.shape"
   ]
  },
  {
   "cell_type": "code",
   "execution_count": 131,
   "id": "b5876aee",
   "metadata": {},
   "outputs": [
    {
     "data": {
      "text/plain": [
       "(53, 2)"
      ]
     },
     "execution_count": 131,
     "metadata": {},
     "output_type": "execute_result"
    }
   ],
   "source": [
    "# Sint0\n",
    "eventid = np.repeat(3, repeats = len(Sint0))\n",
    "df_lane = np.vstack((Sint0, eventid)).T\n",
    "df_lane = pd.DataFrame(df_lane, columns = ['Time', 'event'])\n",
    "df_lane.shape"
   ]
  },
  {
   "cell_type": "markdown",
   "id": "168a23ab",
   "metadata": {},
   "source": [
    "### Now we stack all event dataframes vertically"
   ]
  },
  {
   "cell_type": "code",
   "execution_count": 134,
   "id": "b9e495d1",
   "metadata": {},
   "outputs": [],
   "source": [
    "df_events = pd.concat([df_brake, df_accel, df_lane], axis = 0)"
   ]
  },
  {
   "cell_type": "code",
   "execution_count": 135,
   "id": "49932511",
   "metadata": {},
   "outputs": [
    {
     "data": {
      "text/plain": [
       "(206, 2)"
      ]
     },
     "execution_count": 135,
     "metadata": {},
     "output_type": "execute_result"
    }
   ],
   "source": [
    "df_events.shape"
   ]
  },
  {
   "cell_type": "markdown",
   "id": "c083496d",
   "metadata": {},
   "source": [
    "We have successfully extracted events from tsv file and extracted corresponding timestamps. Now we have a single dataframe with all event labels"
   ]
  },
  {
   "cell_type": "markdown",
   "id": "849c599b",
   "metadata": {},
   "source": [
    "Now we add codes for events to ECG dataframes"
   ]
  },
  {
   "cell_type": "code",
   "execution_count": 119,
   "id": "dd81aa01",
   "metadata": {},
   "outputs": [],
   "source": [
    "df_ecg_brake['event'] = 1\n",
    "df_ecg_accel['event'] = 2\n",
    "df_ecg_lane['event'] = 3"
   ]
  },
  {
   "cell_type": "code",
   "execution_count": 136,
   "id": "9fd2c1dc",
   "metadata": {},
   "outputs": [],
   "source": [
    "df_ecg_full = pd.concat([df_ecg_brake, df_ecg_accel, df_ecg_lane], axis = 0, ignore_index = True)"
   ]
  },
  {
   "cell_type": "markdown",
   "id": "a8c9f55b",
   "metadata": {},
   "source": [
    "Now we join the event and ECG dataframes"
   ]
  },
  {
   "cell_type": "markdown",
   "id": "d6de4e60",
   "metadata": {},
   "source": [
    "We see that event column is in different formats in both dataframes - hence we should cast it to integer for df_events"
   ]
  },
  {
   "cell_type": "code",
   "execution_count": 143,
   "id": "138e7195",
   "metadata": {},
   "outputs": [
    {
     "name": "stdout",
     "output_type": "stream",
     "text": [
      "(206, 2)\n"
     ]
    },
    {
     "data": {
      "text/html": [
       "<div>\n",
       "<style scoped>\n",
       "    .dataframe tbody tr th:only-of-type {\n",
       "        vertical-align: middle;\n",
       "    }\n",
       "\n",
       "    .dataframe tbody tr th {\n",
       "        vertical-align: top;\n",
       "    }\n",
       "\n",
       "    .dataframe thead th {\n",
       "        text-align: right;\n",
       "    }\n",
       "</style>\n",
       "<table border=\"1\" class=\"dataframe\">\n",
       "  <thead>\n",
       "    <tr style=\"text-align: right;\">\n",
       "      <th></th>\n",
       "      <th>Time</th>\n",
       "      <th>event</th>\n",
       "    </tr>\n",
       "  </thead>\n",
       "  <tbody>\n",
       "    <tr>\n",
       "      <th>0</th>\n",
       "      <td>547996.0</td>\n",
       "      <td>1.0</td>\n",
       "    </tr>\n",
       "    <tr>\n",
       "      <th>1</th>\n",
       "      <td>550276.0</td>\n",
       "      <td>1.0</td>\n",
       "    </tr>\n",
       "    <tr>\n",
       "      <th>2</th>\n",
       "      <td>559465.0</td>\n",
       "      <td>1.0</td>\n",
       "    </tr>\n",
       "    <tr>\n",
       "      <th>3</th>\n",
       "      <td>566136.0</td>\n",
       "      <td>1.0</td>\n",
       "    </tr>\n",
       "    <tr>\n",
       "      <th>4</th>\n",
       "      <td>569761.0</td>\n",
       "      <td>1.0</td>\n",
       "    </tr>\n",
       "  </tbody>\n",
       "</table>\n",
       "</div>"
      ],
      "text/plain": [
       "       Time  event\n",
       "0  547996.0    1.0\n",
       "1  550276.0    1.0\n",
       "2  559465.0    1.0\n",
       "3  566136.0    1.0\n",
       "4  569761.0    1.0"
      ]
     },
     "execution_count": 143,
     "metadata": {},
     "output_type": "execute_result"
    }
   ],
   "source": [
    "print(df_events.shape)\n",
    "df_events.head()"
   ]
  },
  {
   "cell_type": "code",
   "execution_count": 145,
   "id": "c89b82f5",
   "metadata": {},
   "outputs": [],
   "source": [
    "df_events['event'] = df_events['event'].astype(int)"
   ]
  },
  {
   "cell_type": "code",
   "execution_count": 146,
   "id": "9d93cd3b",
   "metadata": {},
   "outputs": [
    {
     "data": {
      "text/html": [
       "<div>\n",
       "<style scoped>\n",
       "    .dataframe tbody tr th:only-of-type {\n",
       "        vertical-align: middle;\n",
       "    }\n",
       "\n",
       "    .dataframe tbody tr th {\n",
       "        vertical-align: top;\n",
       "    }\n",
       "\n",
       "    .dataframe thead th {\n",
       "        text-align: right;\n",
       "    }\n",
       "</style>\n",
       "<table border=\"1\" class=\"dataframe\">\n",
       "  <thead>\n",
       "    <tr style=\"text-align: right;\">\n",
       "      <th></th>\n",
       "      <th>Time</th>\n",
       "      <th>event</th>\n",
       "    </tr>\n",
       "  </thead>\n",
       "  <tbody>\n",
       "    <tr>\n",
       "      <th>0</th>\n",
       "      <td>547996.0</td>\n",
       "      <td>1</td>\n",
       "    </tr>\n",
       "    <tr>\n",
       "      <th>1</th>\n",
       "      <td>550276.0</td>\n",
       "      <td>1</td>\n",
       "    </tr>\n",
       "    <tr>\n",
       "      <th>2</th>\n",
       "      <td>559465.0</td>\n",
       "      <td>1</td>\n",
       "    </tr>\n",
       "    <tr>\n",
       "      <th>3</th>\n",
       "      <td>566136.0</td>\n",
       "      <td>1</td>\n",
       "    </tr>\n",
       "    <tr>\n",
       "      <th>4</th>\n",
       "      <td>569761.0</td>\n",
       "      <td>1</td>\n",
       "    </tr>\n",
       "  </tbody>\n",
       "</table>\n",
       "</div>"
      ],
      "text/plain": [
       "       Time  event\n",
       "0  547996.0      1\n",
       "1  550276.0      1\n",
       "2  559465.0      1\n",
       "3  566136.0      1\n",
       "4  569761.0      1"
      ]
     },
     "execution_count": 146,
     "metadata": {},
     "output_type": "execute_result"
    }
   ],
   "source": [
    "df_events.head()"
   ]
  },
  {
   "cell_type": "code",
   "execution_count": 147,
   "id": "1c11d140",
   "metadata": {},
   "outputs": [
    {
     "name": "stdout",
     "output_type": "stream",
     "text": [
      "(206, 3)\n"
     ]
    },
    {
     "data": {
      "text/html": [
       "<div>\n",
       "<style scoped>\n",
       "    .dataframe tbody tr th:only-of-type {\n",
       "        vertical-align: middle;\n",
       "    }\n",
       "\n",
       "    .dataframe tbody tr th {\n",
       "        vertical-align: top;\n",
       "    }\n",
       "\n",
       "    .dataframe thead th {\n",
       "        text-align: right;\n",
       "    }\n",
       "</style>\n",
       "<table border=\"1\" class=\"dataframe\">\n",
       "  <thead>\n",
       "    <tr style=\"text-align: right;\">\n",
       "      <th></th>\n",
       "      <th>ibi</th>\n",
       "      <th>bpm</th>\n",
       "      <th>event</th>\n",
       "    </tr>\n",
       "  </thead>\n",
       "  <tbody>\n",
       "    <tr>\n",
       "      <th>0</th>\n",
       "      <td>1068.186279</td>\n",
       "      <td>56.169978</td>\n",
       "      <td>1</td>\n",
       "    </tr>\n",
       "    <tr>\n",
       "      <th>1</th>\n",
       "      <td>976.511475</td>\n",
       "      <td>61.443210</td>\n",
       "      <td>1</td>\n",
       "    </tr>\n",
       "    <tr>\n",
       "      <th>2</th>\n",
       "      <td>923.660352</td>\n",
       "      <td>64.958943</td>\n",
       "      <td>1</td>\n",
       "    </tr>\n",
       "    <tr>\n",
       "      <th>3</th>\n",
       "      <td>942.361230</td>\n",
       "      <td>63.669852</td>\n",
       "      <td>1</td>\n",
       "    </tr>\n",
       "    <tr>\n",
       "      <th>4</th>\n",
       "      <td>1054.972595</td>\n",
       "      <td>56.873515</td>\n",
       "      <td>1</td>\n",
       "    </tr>\n",
       "  </tbody>\n",
       "</table>\n",
       "</div>"
      ],
      "text/plain": [
       "           ibi        bpm  event\n",
       "0  1068.186279  56.169978      1\n",
       "1   976.511475  61.443210      1\n",
       "2   923.660352  64.958943      1\n",
       "3   942.361230  63.669852      1\n",
       "4  1054.972595  56.873515      1"
      ]
     },
     "execution_count": 147,
     "metadata": {},
     "output_type": "execute_result"
    }
   ],
   "source": [
    "print(df_ecg_full.shape)\n",
    "df_ecg_full.head()"
   ]
  },
  {
   "cell_type": "code",
   "execution_count": 161,
   "id": "33e4523f",
   "metadata": {},
   "outputs": [],
   "source": [
    "df_ecg_event = pd.concat([df_events.reset_index(drop = True), df_ecg_full.reset_index(drop = True)], axis = 1)"
   ]
  },
  {
   "cell_type": "code",
   "execution_count": 166,
   "id": "9b0bd94f",
   "metadata": {},
   "outputs": [
    {
     "data": {
      "text/html": [
       "<div>\n",
       "<style scoped>\n",
       "    .dataframe tbody tr th:only-of-type {\n",
       "        vertical-align: middle;\n",
       "    }\n",
       "\n",
       "    .dataframe tbody tr th {\n",
       "        vertical-align: top;\n",
       "    }\n",
       "\n",
       "    .dataframe thead th {\n",
       "        text-align: right;\n",
       "    }\n",
       "</style>\n",
       "<table border=\"1\" class=\"dataframe\">\n",
       "  <thead>\n",
       "    <tr style=\"text-align: right;\">\n",
       "      <th></th>\n",
       "      <th>Time</th>\n",
       "      <th>event</th>\n",
       "      <th>ibi</th>\n",
       "      <th>bpm</th>\n",
       "      <th>event</th>\n",
       "    </tr>\n",
       "  </thead>\n",
       "  <tbody>\n",
       "    <tr>\n",
       "      <th>0</th>\n",
       "      <td>547996.0</td>\n",
       "      <td>1</td>\n",
       "      <td>1068.186279</td>\n",
       "      <td>56.169978</td>\n",
       "      <td>1</td>\n",
       "    </tr>\n",
       "    <tr>\n",
       "      <th>1</th>\n",
       "      <td>550276.0</td>\n",
       "      <td>1</td>\n",
       "      <td>976.511475</td>\n",
       "      <td>61.443210</td>\n",
       "      <td>1</td>\n",
       "    </tr>\n",
       "    <tr>\n",
       "      <th>2</th>\n",
       "      <td>559465.0</td>\n",
       "      <td>1</td>\n",
       "      <td>923.660352</td>\n",
       "      <td>64.958943</td>\n",
       "      <td>1</td>\n",
       "    </tr>\n",
       "    <tr>\n",
       "      <th>3</th>\n",
       "      <td>566136.0</td>\n",
       "      <td>1</td>\n",
       "      <td>942.361230</td>\n",
       "      <td>63.669852</td>\n",
       "      <td>1</td>\n",
       "    </tr>\n",
       "    <tr>\n",
       "      <th>4</th>\n",
       "      <td>569761.0</td>\n",
       "      <td>1</td>\n",
       "      <td>1054.972595</td>\n",
       "      <td>56.873515</td>\n",
       "      <td>1</td>\n",
       "    </tr>\n",
       "  </tbody>\n",
       "</table>\n",
       "</div>"
      ],
      "text/plain": [
       "       Time  event          ibi        bpm  event\n",
       "0  547996.0      1  1068.186279  56.169978      1\n",
       "1  550276.0      1   976.511475  61.443210      1\n",
       "2  559465.0      1   923.660352  64.958943      1\n",
       "3  566136.0      1   942.361230  63.669852      1\n",
       "4  569761.0      1  1054.972595  56.873515      1"
      ]
     },
     "execution_count": 166,
     "metadata": {},
     "output_type": "execute_result"
    }
   ],
   "source": [
    "df_ecg_event.head()"
   ]
  },
  {
   "cell_type": "markdown",
   "id": "5dc31d5d",
   "metadata": {},
   "source": [
    "We have matched the ibi, bpm, event codes and timestamps. Now it is time to extract corresponding numbers from EEG dataframe"
   ]
  },
  {
   "cell_type": "code",
   "execution_count": 165,
   "id": "448b27e9",
   "metadata": {},
   "outputs": [
    {
     "data": {
      "text/html": [
       "<div>\n",
       "<style scoped>\n",
       "    .dataframe tbody tr th:only-of-type {\n",
       "        vertical-align: middle;\n",
       "    }\n",
       "\n",
       "    .dataframe tbody tr th {\n",
       "        vertical-align: top;\n",
       "    }\n",
       "\n",
       "    .dataframe thead th {\n",
       "        text-align: right;\n",
       "    }\n",
       "</style>\n",
       "<table border=\"1\" class=\"dataframe\">\n",
       "  <thead>\n",
       "    <tr style=\"text-align: right;\">\n",
       "      <th></th>\n",
       "      <th>Time</th>\n",
       "      <th>F3</th>\n",
       "      <th>F1</th>\n",
       "      <th>Fz</th>\n",
       "      <th>F2</th>\n",
       "      <th>F4</th>\n",
       "      <th>C3</th>\n",
       "      <th>C1</th>\n",
       "      <th>Cz</th>\n",
       "      <th>C2</th>\n",
       "      <th>...</th>\n",
       "      <th>CPz</th>\n",
       "      <th>P3</th>\n",
       "      <th>P1</th>\n",
       "      <th>Pz</th>\n",
       "      <th>P2</th>\n",
       "      <th>P4</th>\n",
       "      <th>POz</th>\n",
       "      <th>O1</th>\n",
       "      <th>Oz</th>\n",
       "      <th>O2</th>\n",
       "    </tr>\n",
       "  </thead>\n",
       "  <tbody>\n",
       "    <tr>\n",
       "      <th>0</th>\n",
       "      <td>0.000000e+00</td>\n",
       "      <td>3.1058</td>\n",
       "      <td>3.0058</td>\n",
       "      <td>4.6054</td>\n",
       "      <td>9.8042</td>\n",
       "      <td>5.5242</td>\n",
       "      <td>-2.2930</td>\n",
       "      <td>1.1062</td>\n",
       "      <td>-2.1930</td>\n",
       "      <td>-2.3930</td>\n",
       "      <td>...</td>\n",
       "      <td>-2.6684</td>\n",
       "      <td>-2.6929</td>\n",
       "      <td>-3.8926</td>\n",
       "      <td>-2.4929</td>\n",
       "      <td>-2.1930</td>\n",
       "      <td>-2.9928</td>\n",
       "      <td>-0.0935</td>\n",
       "      <td>0.9063</td>\n",
       "      <td>-0.5934</td>\n",
       "      <td>-2.2328</td>\n",
       "    </tr>\n",
       "    <tr>\n",
       "      <th>1</th>\n",
       "      <td>3.906300e+00</td>\n",
       "      <td>-0.3989</td>\n",
       "      <td>-0.3989</td>\n",
       "      <td>1.3007</td>\n",
       "      <td>7.9992</td>\n",
       "      <td>5.4075</td>\n",
       "      <td>-4.1980</td>\n",
       "      <td>0.0010</td>\n",
       "      <td>1.4007</td>\n",
       "      <td>0.2010</td>\n",
       "      <td>...</td>\n",
       "      <td>0.3484</td>\n",
       "      <td>-3.9981</td>\n",
       "      <td>-1.2987</td>\n",
       "      <td>-0.4989</td>\n",
       "      <td>0.8008</td>\n",
       "      <td>-3.0983</td>\n",
       "      <td>-3.0983</td>\n",
       "      <td>-0.7988</td>\n",
       "      <td>0.7009</td>\n",
       "      <td>-1.0765</td>\n",
       "    </tr>\n",
       "    <tr>\n",
       "      <th>2</th>\n",
       "      <td>7.812500e+00</td>\n",
       "      <td>0.3358</td>\n",
       "      <td>0.2358</td>\n",
       "      <td>2.4353</td>\n",
       "      <td>9.9336</td>\n",
       "      <td>6.5364</td>\n",
       "      <td>-4.3631</td>\n",
       "      <td>0.4358</td>\n",
       "      <td>0.9357</td>\n",
       "      <td>-0.4640</td>\n",
       "      <td>...</td>\n",
       "      <td>-0.0626</td>\n",
       "      <td>-4.2631</td>\n",
       "      <td>-2.0636</td>\n",
       "      <td>-0.6640</td>\n",
       "      <td>0.4358</td>\n",
       "      <td>-3.7633</td>\n",
       "      <td>-3.3633</td>\n",
       "      <td>-0.9639</td>\n",
       "      <td>0.1359</td>\n",
       "      <td>-1.8043</td>\n",
       "    </tr>\n",
       "    <tr>\n",
       "      <th>3</th>\n",
       "      <td>1.171880e+01</td>\n",
       "      <td>-0.6690</td>\n",
       "      <td>-0.3691</td>\n",
       "      <td>2.1304</td>\n",
       "      <td>11.2283</td>\n",
       "      <td>7.6949</td>\n",
       "      <td>-5.2679</td>\n",
       "      <td>0.0309</td>\n",
       "      <td>1.8304</td>\n",
       "      <td>0.6307</td>\n",
       "      <td>...</td>\n",
       "      <td>0.3476</td>\n",
       "      <td>-4.9680</td>\n",
       "      <td>-2.0687</td>\n",
       "      <td>-0.8689</td>\n",
       "      <td>0.7307</td>\n",
       "      <td>-4.0682</td>\n",
       "      <td>-4.1682</td>\n",
       "      <td>-1.4688</td>\n",
       "      <td>0.0309</td>\n",
       "      <td>-2.0123</td>\n",
       "    </tr>\n",
       "    <tr>\n",
       "      <th>4</th>\n",
       "      <td>1.562500e+01</td>\n",
       "      <td>-1.2342</td>\n",
       "      <td>-0.4344</td>\n",
       "      <td>1.8650</td>\n",
       "      <td>10.1631</td>\n",
       "      <td>7.2003</td>\n",
       "      <td>-5.3333</td>\n",
       "      <td>-0.1345</td>\n",
       "      <td>2.2650</td>\n",
       "      <td>1.1652</td>\n",
       "      <td>...</td>\n",
       "      <td>0.7344</td>\n",
       "      <td>-4.6335</td>\n",
       "      <td>-1.7341</td>\n",
       "      <td>-0.6344</td>\n",
       "      <td>1.0652</td>\n",
       "      <td>-3.8337</td>\n",
       "      <td>-4.5335</td>\n",
       "      <td>-1.8341</td>\n",
       "      <td>0.0655</td>\n",
       "      <td>-1.7990</td>\n",
       "    </tr>\n",
       "    <tr>\n",
       "      <th>...</th>\n",
       "      <td>...</td>\n",
       "      <td>...</td>\n",
       "      <td>...</td>\n",
       "      <td>...</td>\n",
       "      <td>...</td>\n",
       "      <td>...</td>\n",
       "      <td>...</td>\n",
       "      <td>...</td>\n",
       "      <td>...</td>\n",
       "      <td>...</td>\n",
       "      <td>...</td>\n",
       "      <td>...</td>\n",
       "      <td>...</td>\n",
       "      <td>...</td>\n",
       "      <td>...</td>\n",
       "      <td>...</td>\n",
       "      <td>...</td>\n",
       "      <td>...</td>\n",
       "      <td>...</td>\n",
       "      <td>...</td>\n",
       "      <td>...</td>\n",
       "    </tr>\n",
       "    <tr>\n",
       "      <th>1564667</th>\n",
       "      <td>6.111980e+06</td>\n",
       "      <td>-3.7965</td>\n",
       "      <td>-2.5968</td>\n",
       "      <td>-10.0951</td>\n",
       "      <td>-12.1946</td>\n",
       "      <td>-8.7405</td>\n",
       "      <td>6.9010</td>\n",
       "      <td>12.8996</td>\n",
       "      <td>-1.7970</td>\n",
       "      <td>-3.9965</td>\n",
       "      <td>...</td>\n",
       "      <td>-1.7878</td>\n",
       "      <td>-1.1971</td>\n",
       "      <td>0.1026</td>\n",
       "      <td>-5.6961</td>\n",
       "      <td>0.2025</td>\n",
       "      <td>-0.0974</td>\n",
       "      <td>11.5999</td>\n",
       "      <td>4.9015</td>\n",
       "      <td>10.1003</td>\n",
       "      <td>9.3296</td>\n",
       "    </tr>\n",
       "    <tr>\n",
       "      <th>1564668</th>\n",
       "      <td>6.111984e+06</td>\n",
       "      <td>-2.9455</td>\n",
       "      <td>-1.7458</td>\n",
       "      <td>-9.7440</td>\n",
       "      <td>-12.0434</td>\n",
       "      <td>-8.4916</td>\n",
       "      <td>7.4521</td>\n",
       "      <td>13.2508</td>\n",
       "      <td>-1.3459</td>\n",
       "      <td>-3.9453</td>\n",
       "      <td>...</td>\n",
       "      <td>-1.4902</td>\n",
       "      <td>-1.2459</td>\n",
       "      <td>0.1538</td>\n",
       "      <td>-5.6449</td>\n",
       "      <td>0.4537</td>\n",
       "      <td>-0.5461</td>\n",
       "      <td>10.6514</td>\n",
       "      <td>3.6530</td>\n",
       "      <td>9.0517</td>\n",
       "      <td>8.5395</td>\n",
       "    </tr>\n",
       "    <tr>\n",
       "      <th>1564669</th>\n",
       "      <td>6.111988e+06</td>\n",
       "      <td>-2.7386</td>\n",
       "      <td>-1.7388</td>\n",
       "      <td>-9.5371</td>\n",
       "      <td>-11.8365</td>\n",
       "      <td>-8.2981</td>\n",
       "      <td>7.5590</td>\n",
       "      <td>13.2577</td>\n",
       "      <td>-1.4389</td>\n",
       "      <td>-3.9383</td>\n",
       "      <td>...</td>\n",
       "      <td>-1.5665</td>\n",
       "      <td>-1.5389</td>\n",
       "      <td>-0.0392</td>\n",
       "      <td>-5.5380</td>\n",
       "      <td>0.3607</td>\n",
       "      <td>-0.7391</td>\n",
       "      <td>11.1582</td>\n",
       "      <td>3.4600</td>\n",
       "      <td>8.7587</td>\n",
       "      <td>8.4024</td>\n",
       "    </tr>\n",
       "    <tr>\n",
       "      <th>1564670</th>\n",
       "      <td>6.111992e+06</td>\n",
       "      <td>-3.3451</td>\n",
       "      <td>-1.5455</td>\n",
       "      <td>-9.5437</td>\n",
       "      <td>-10.1436</td>\n",
       "      <td>-6.9677</td>\n",
       "      <td>6.5526</td>\n",
       "      <td>13.3510</td>\n",
       "      <td>-1.1456</td>\n",
       "      <td>-3.4451</td>\n",
       "      <td>...</td>\n",
       "      <td>-1.2769</td>\n",
       "      <td>-2.0454</td>\n",
       "      <td>-0.0459</td>\n",
       "      <td>-5.4447</td>\n",
       "      <td>0.4540</td>\n",
       "      <td>-0.9457</td>\n",
       "      <td>9.7519</td>\n",
       "      <td>2.7535</td>\n",
       "      <td>8.4522</td>\n",
       "      <td>7.9556</td>\n",
       "    </tr>\n",
       "    <tr>\n",
       "      <th>1564671</th>\n",
       "      <td>6.111996e+06</td>\n",
       "      <td>-2.3815</td>\n",
       "      <td>-0.5820</td>\n",
       "      <td>-9.9798</td>\n",
       "      <td>-12.4792</td>\n",
       "      <td>-8.4656</td>\n",
       "      <td>7.2163</td>\n",
       "      <td>13.9147</td>\n",
       "      <td>-0.8819</td>\n",
       "      <td>-3.5813</td>\n",
       "      <td>...</td>\n",
       "      <td>-1.0289</td>\n",
       "      <td>-2.0816</td>\n",
       "      <td>0.4178</td>\n",
       "      <td>-5.2809</td>\n",
       "      <td>0.6178</td>\n",
       "      <td>-0.9819</td>\n",
       "      <td>10.1156</td>\n",
       "      <td>2.6173</td>\n",
       "      <td>8.4160</td>\n",
       "      <td>8.2097</td>\n",
       "    </tr>\n",
       "  </tbody>\n",
       "</table>\n",
       "<p>1564672 rows × 21 columns</p>\n",
       "</div>"
      ],
      "text/plain": [
       "                 Time      F3      F1       Fz       F2      F4      C3  \\\n",
       "0        0.000000e+00  3.1058  3.0058   4.6054   9.8042  5.5242 -2.2930   \n",
       "1        3.906300e+00 -0.3989 -0.3989   1.3007   7.9992  5.4075 -4.1980   \n",
       "2        7.812500e+00  0.3358  0.2358   2.4353   9.9336  6.5364 -4.3631   \n",
       "3        1.171880e+01 -0.6690 -0.3691   2.1304  11.2283  7.6949 -5.2679   \n",
       "4        1.562500e+01 -1.2342 -0.4344   1.8650  10.1631  7.2003 -5.3333   \n",
       "...               ...     ...     ...      ...      ...     ...     ...   \n",
       "1564667  6.111980e+06 -3.7965 -2.5968 -10.0951 -12.1946 -8.7405  6.9010   \n",
       "1564668  6.111984e+06 -2.9455 -1.7458  -9.7440 -12.0434 -8.4916  7.4521   \n",
       "1564669  6.111988e+06 -2.7386 -1.7388  -9.5371 -11.8365 -8.2981  7.5590   \n",
       "1564670  6.111992e+06 -3.3451 -1.5455  -9.5437 -10.1436 -6.9677  6.5526   \n",
       "1564671  6.111996e+06 -2.3815 -0.5820  -9.9798 -12.4792 -8.4656  7.2163   \n",
       "\n",
       "              C1      Cz      C2  ...     CPz      P3      P1      Pz      P2  \\\n",
       "0         1.1062 -2.1930 -2.3930  ... -2.6684 -2.6929 -3.8926 -2.4929 -2.1930   \n",
       "1         0.0010  1.4007  0.2010  ...  0.3484 -3.9981 -1.2987 -0.4989  0.8008   \n",
       "2         0.4358  0.9357 -0.4640  ... -0.0626 -4.2631 -2.0636 -0.6640  0.4358   \n",
       "3         0.0309  1.8304  0.6307  ...  0.3476 -4.9680 -2.0687 -0.8689  0.7307   \n",
       "4        -0.1345  2.2650  1.1652  ...  0.7344 -4.6335 -1.7341 -0.6344  1.0652   \n",
       "...          ...     ...     ...  ...     ...     ...     ...     ...     ...   \n",
       "1564667  12.8996 -1.7970 -3.9965  ... -1.7878 -1.1971  0.1026 -5.6961  0.2025   \n",
       "1564668  13.2508 -1.3459 -3.9453  ... -1.4902 -1.2459  0.1538 -5.6449  0.4537   \n",
       "1564669  13.2577 -1.4389 -3.9383  ... -1.5665 -1.5389 -0.0392 -5.5380  0.3607   \n",
       "1564670  13.3510 -1.1456 -3.4451  ... -1.2769 -2.0454 -0.0459 -5.4447  0.4540   \n",
       "1564671  13.9147 -0.8819 -3.5813  ... -1.0289 -2.0816  0.4178 -5.2809  0.6178   \n",
       "\n",
       "             P4      POz      O1       Oz      O2  \n",
       "0       -2.9928  -0.0935  0.9063  -0.5934 -2.2328  \n",
       "1       -3.0983  -3.0983 -0.7988   0.7009 -1.0765  \n",
       "2       -3.7633  -3.3633 -0.9639   0.1359 -1.8043  \n",
       "3       -4.0682  -4.1682 -1.4688   0.0309 -2.0123  \n",
       "4       -3.8337  -4.5335 -1.8341   0.0655 -1.7990  \n",
       "...         ...      ...     ...      ...     ...  \n",
       "1564667 -0.0974  11.5999  4.9015  10.1003  9.3296  \n",
       "1564668 -0.5461  10.6514  3.6530   9.0517  8.5395  \n",
       "1564669 -0.7391  11.1582  3.4600   8.7587  8.4024  \n",
       "1564670 -0.9457   9.7519  2.7535   8.4522  7.9556  \n",
       "1564671 -0.9819  10.1156  2.6173   8.4160  8.2097  \n",
       "\n",
       "[1564672 rows x 21 columns]"
      ]
     },
     "execution_count": 165,
     "metadata": {},
     "output_type": "execute_result"
    }
   ],
   "source": [
    "df_eeg"
   ]
  },
  {
   "cell_type": "markdown",
   "id": "0569ce57",
   "metadata": {},
   "source": [
    "Now we merge df_ecg_event with df_eeg which is appended from the right and we use asof merge. Before merging, let's drop NAs "
   ]
  },
  {
   "cell_type": "code",
   "execution_count": 171,
   "id": "493dede9",
   "metadata": {},
   "outputs": [],
   "source": [
    "df_eeg = df_eeg.dropna()\n",
    "df_ecg_event = df_ecg_event.dropna()"
   ]
  },
  {
   "cell_type": "code",
   "execution_count": 172,
   "id": "451b0f94",
   "metadata": {},
   "outputs": [
    {
     "name": "stdout",
     "output_type": "stream",
     "text": [
      "(1564672, 21)\n",
      "(206, 5)\n"
     ]
    }
   ],
   "source": [
    "print(df_eeg.shape)\n",
    "print(df_ecg_event.shape)"
   ]
  },
  {
   "cell_type": "code",
   "execution_count": 175,
   "id": "259c9c78",
   "metadata": {},
   "outputs": [
    {
     "ename": "MergeError",
     "evalue": "incompatible tolerance 0 days 00:00:10, must be compat with type dtype('float64')",
     "output_type": "error",
     "traceback": [
      "\u001b[1;31m---------------------------------------------------------------------------\u001b[0m",
      "\u001b[1;31mMergeError\u001b[0m                                Traceback (most recent call last)",
      "\u001b[1;32m~\\AppData\\Local\\Temp/ipykernel_9732/1813811188.py\u001b[0m in \u001b[0;36m<module>\u001b[1;34m\u001b[0m\n\u001b[1;32m----> 1\u001b[1;33m \u001b[0mdf_eeg_ecg\u001b[0m \u001b[1;33m=\u001b[0m \u001b[0mpd\u001b[0m\u001b[1;33m.\u001b[0m\u001b[0mmerge_asof\u001b[0m\u001b[1;33m(\u001b[0m\u001b[0mdf_ecg_event\u001b[0m\u001b[1;33m,\u001b[0m \u001b[0mdf_eeg\u001b[0m\u001b[1;33m,\u001b[0m \u001b[0mon\u001b[0m \u001b[1;33m=\u001b[0m \u001b[1;34m'Time'\u001b[0m\u001b[1;33m,\u001b[0m \u001b[0mtolerance\u001b[0m \u001b[1;33m=\u001b[0m \u001b[0mpd\u001b[0m\u001b[1;33m.\u001b[0m\u001b[0mTimedelta\u001b[0m\u001b[1;33m(\u001b[0m\u001b[1;34m'10000ms'\u001b[0m\u001b[1;33m)\u001b[0m\u001b[1;33m)\u001b[0m\u001b[1;33m\u001b[0m\u001b[1;33m\u001b[0m\u001b[0m\n\u001b[0m",
      "\u001b[1;32m~\\anaconda3\\lib\\site-packages\\pandas\\core\\reshape\\merge.py\u001b[0m in \u001b[0;36mmerge_asof\u001b[1;34m(left, right, on, left_on, right_on, left_index, right_index, by, left_by, right_by, suffixes, tolerance, allow_exact_matches, direction)\u001b[0m\n\u001b[0;32m    578\u001b[0m     \u001b[1;36m4\u001b[0m \u001b[1;36m2016\u001b[0m\u001b[1;33m-\u001b[0m\u001b[1;36m0\u001b[0m\u001b[1;36m5\u001b[0m\u001b[1;33m-\u001b[0m\u001b[1;36m25\u001b[0m \u001b[1;36m13\u001b[0m\u001b[1;33m:\u001b[0m\u001b[1;36m30\u001b[0m\u001b[1;33m:\u001b[0m\u001b[1;36m00.048\u001b[0m   \u001b[0mAAPL\u001b[0m   \u001b[1;36m98.00\u001b[0m       \u001b[1;36m100\u001b[0m     \u001b[0mNaN\u001b[0m     \u001b[0mNaN\u001b[0m\u001b[1;33m\u001b[0m\u001b[1;33m\u001b[0m\u001b[0m\n\u001b[0;32m    579\u001b[0m     \"\"\"\n\u001b[1;32m--> 580\u001b[1;33m     op = _AsOfMerge(\n\u001b[0m\u001b[0;32m    581\u001b[0m         \u001b[0mleft\u001b[0m\u001b[1;33m,\u001b[0m\u001b[1;33m\u001b[0m\u001b[1;33m\u001b[0m\u001b[0m\n\u001b[0;32m    582\u001b[0m         \u001b[0mright\u001b[0m\u001b[1;33m,\u001b[0m\u001b[1;33m\u001b[0m\u001b[1;33m\u001b[0m\u001b[0m\n",
      "\u001b[1;32m~\\anaconda3\\lib\\site-packages\\pandas\\core\\reshape\\merge.py\u001b[0m in \u001b[0;36m__init__\u001b[1;34m(self, left, right, on, left_on, right_on, left_index, right_index, by, left_by, right_by, axis, suffixes, copy, fill_method, how, tolerance, allow_exact_matches, direction)\u001b[0m\n\u001b[0;32m   1738\u001b[0m         \u001b[0mself\u001b[0m\u001b[1;33m.\u001b[0m\u001b[0mdirection\u001b[0m \u001b[1;33m=\u001b[0m \u001b[0mdirection\u001b[0m\u001b[1;33m\u001b[0m\u001b[1;33m\u001b[0m\u001b[0m\n\u001b[0;32m   1739\u001b[0m \u001b[1;33m\u001b[0m\u001b[0m\n\u001b[1;32m-> 1740\u001b[1;33m         _OrderedMerge.__init__(\n\u001b[0m\u001b[0;32m   1741\u001b[0m             \u001b[0mself\u001b[0m\u001b[1;33m,\u001b[0m\u001b[1;33m\u001b[0m\u001b[1;33m\u001b[0m\u001b[0m\n\u001b[0;32m   1742\u001b[0m             \u001b[0mleft\u001b[0m\u001b[1;33m,\u001b[0m\u001b[1;33m\u001b[0m\u001b[1;33m\u001b[0m\u001b[0m\n",
      "\u001b[1;32m~\\anaconda3\\lib\\site-packages\\pandas\\core\\reshape\\merge.py\u001b[0m in \u001b[0;36m__init__\u001b[1;34m(self, left, right, on, left_on, right_on, left_index, right_index, axis, suffixes, copy, fill_method, how)\u001b[0m\n\u001b[0;32m   1621\u001b[0m \u001b[1;33m\u001b[0m\u001b[0m\n\u001b[0;32m   1622\u001b[0m         \u001b[0mself\u001b[0m\u001b[1;33m.\u001b[0m\u001b[0mfill_method\u001b[0m \u001b[1;33m=\u001b[0m \u001b[0mfill_method\u001b[0m\u001b[1;33m\u001b[0m\u001b[1;33m\u001b[0m\u001b[0m\n\u001b[1;32m-> 1623\u001b[1;33m         _MergeOperation.__init__(\n\u001b[0m\u001b[0;32m   1624\u001b[0m             \u001b[0mself\u001b[0m\u001b[1;33m,\u001b[0m\u001b[1;33m\u001b[0m\u001b[1;33m\u001b[0m\u001b[0m\n\u001b[0;32m   1625\u001b[0m             \u001b[0mleft\u001b[0m\u001b[1;33m,\u001b[0m\u001b[1;33m\u001b[0m\u001b[1;33m\u001b[0m\u001b[0m\n",
      "\u001b[1;32m~\\anaconda3\\lib\\site-packages\\pandas\\core\\reshape\\merge.py\u001b[0m in \u001b[0;36m__init__\u001b[1;34m(self, left, right, how, on, left_on, right_on, axis, left_index, right_index, sort, suffixes, copy, indicator, validate)\u001b[0m\n\u001b[0;32m    697\u001b[0m             \u001b[0mself\u001b[0m\u001b[1;33m.\u001b[0m\u001b[0mright_join_keys\u001b[0m\u001b[1;33m,\u001b[0m\u001b[1;33m\u001b[0m\u001b[1;33m\u001b[0m\u001b[0m\n\u001b[0;32m    698\u001b[0m             \u001b[0mself\u001b[0m\u001b[1;33m.\u001b[0m\u001b[0mjoin_names\u001b[0m\u001b[1;33m,\u001b[0m\u001b[1;33m\u001b[0m\u001b[1;33m\u001b[0m\u001b[0m\n\u001b[1;32m--> 699\u001b[1;33m         ) = self._get_merge_keys()\n\u001b[0m\u001b[0;32m    700\u001b[0m \u001b[1;33m\u001b[0m\u001b[0m\n\u001b[0;32m    701\u001b[0m         \u001b[1;31m# validate the merge keys dtypes. We may need to coerce\u001b[0m\u001b[1;33m\u001b[0m\u001b[1;33m\u001b[0m\u001b[0m\n",
      "\u001b[1;32m~\\anaconda3\\lib\\site-packages\\pandas\\core\\reshape\\merge.py\u001b[0m in \u001b[0;36m_get_merge_keys\u001b[1;34m(self)\u001b[0m\n\u001b[0;32m   1879\u001b[0m             \u001b[1;32melif\u001b[0m \u001b[0mis_float_dtype\u001b[0m\u001b[1;33m(\u001b[0m\u001b[0mlt\u001b[0m\u001b[1;33m)\u001b[0m\u001b[1;33m:\u001b[0m\u001b[1;33m\u001b[0m\u001b[1;33m\u001b[0m\u001b[0m\n\u001b[0;32m   1880\u001b[0m                 \u001b[1;32mif\u001b[0m \u001b[1;32mnot\u001b[0m \u001b[0mis_number\u001b[0m\u001b[1;33m(\u001b[0m\u001b[0mself\u001b[0m\u001b[1;33m.\u001b[0m\u001b[0mtolerance\u001b[0m\u001b[1;33m)\u001b[0m\u001b[1;33m:\u001b[0m\u001b[1;33m\u001b[0m\u001b[1;33m\u001b[0m\u001b[0m\n\u001b[1;32m-> 1881\u001b[1;33m                     \u001b[1;32mraise\u001b[0m \u001b[0mMergeError\u001b[0m\u001b[1;33m(\u001b[0m\u001b[0mmsg\u001b[0m\u001b[1;33m)\u001b[0m\u001b[1;33m\u001b[0m\u001b[1;33m\u001b[0m\u001b[0m\n\u001b[0m\u001b[0;32m   1882\u001b[0m                 \u001b[1;32mif\u001b[0m \u001b[0mself\u001b[0m\u001b[1;33m.\u001b[0m\u001b[0mtolerance\u001b[0m \u001b[1;33m<\u001b[0m \u001b[1;36m0\u001b[0m\u001b[1;33m:\u001b[0m\u001b[1;33m\u001b[0m\u001b[1;33m\u001b[0m\u001b[0m\n\u001b[0;32m   1883\u001b[0m                     \u001b[1;32mraise\u001b[0m \u001b[0mMergeError\u001b[0m\u001b[1;33m(\u001b[0m\u001b[1;34m\"tolerance must be positive\"\u001b[0m\u001b[1;33m)\u001b[0m\u001b[1;33m\u001b[0m\u001b[1;33m\u001b[0m\u001b[0m\n",
      "\u001b[1;31mMergeError\u001b[0m: incompatible tolerance 0 days 00:00:10, must be compat with type dtype('float64')"
     ]
    }
   ],
   "source": [
    "df_eeg_ecg = pd.merge_asof(df_ecg_event, df_eeg, on = 'Time', tolerance = pd.Timedelta('10000ms'))"
   ]
  },
  {
   "cell_type": "code",
   "execution_count": 188,
   "id": "7485f5c1",
   "metadata": {},
   "outputs": [],
   "source": [
    "df_eeg2 = df_eeg.copy()\n",
    "df_ecg_event2 = df_ecg_event.copy()"
   ]
  },
  {
   "cell_type": "code",
   "execution_count": 189,
   "id": "96d8d331",
   "metadata": {},
   "outputs": [],
   "source": [
    "df_eeg2['Time'] = pd.to_datetime(df_eeg2['Time'], utc=True, unit='ms')\n",
    "df_ecg_event2['Time'] = pd.to_datetime(df_ecg_event['Time'], utc=True, unit='ms')"
   ]
  },
  {
   "cell_type": "code",
   "execution_count": 204,
   "id": "3b6c19db",
   "metadata": {},
   "outputs": [],
   "source": [
    "df_eeg2.dropna(inplace = True, axis = 0)\n",
    "df_ecg_event2.dropna(inplace = True, axis = 0)\n",
    "df_eeg_ecg2 = pd.merge_asof(df_ecg_event2.sort_values('Time'), df_eeg2.sort_values('Time'), on = 'Time', tolerance = pd.Timedelta('10000ms'))"
   ]
  },
  {
   "cell_type": "markdown",
   "id": "111c7843",
   "metadata": {},
   "source": [
    "### Now we extract data from seatbottom sensors "
   ]
  },
  {
   "cell_type": "code",
   "execution_count": 208,
   "id": "2345d5e0",
   "metadata": {},
   "outputs": [],
   "source": [
    "df_eeg_ecg2.to_csv(\"df_eeg_ecg2.csv\", index = True)"
   ]
  }
 ],
 "metadata": {
  "kernelspec": {
   "display_name": "Python 3 (ipykernel)",
   "language": "python",
   "name": "python3"
  },
  "language_info": {
   "codemirror_mode": {
    "name": "ipython",
    "version": 3
   },
   "file_extension": ".py",
   "mimetype": "text/x-python",
   "name": "python",
   "nbconvert_exporter": "python",
   "pygments_lexer": "ipython3",
   "version": "3.9.12"
  }
 },
 "nbformat": 4,
 "nbformat_minor": 5
}
